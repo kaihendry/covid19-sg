{
 "cells": [
  {
   "cell_type": "code",
   "execution_count": 8,
   "metadata": {},
   "outputs": [],
   "source": [
    "%gnuplot inline svg mouse enhanced"
   ]
  },
  {
   "cell_type": "raw",
   "metadata": {},
   "source": [
    "reset"
   ]
  },
  {
   "cell_type": "code",
   "execution_count": null,
   "metadata": {},
   "outputs": [
    {
     "name": "stdout",
     "output_type": "stream",
     "text": [
      "Error: not well-formed (invalid token): line 317, column 40\n"
     ]
    }
   ],
   "source": [
    "reset session\n",
    "Info(String,Size) = sprintf(\"Policy %s\\n%d\", stringcolumn(String), column(Size))\n",
    "set datafile separator comma\n",
    "$sample <<EOD\n",
    "01-Mar-20,50,2,Closures, Public park barbecue sites and campsites closed\n",
    "02-Mar-20,62,2,Closures, Social distancing requirements imposed on all catering businesses, amusement game centres, and fitness centres.\n",
    "03-Mar-20,99,5,Jobs, Announcement of 20,000 jobs to be created in public and private sectors\n",
    "04-Mar-20,108,5,Businesses, Grant of $80,000 announced for operators of food outlets at primary and secondary schools.\n",
    "05-Mar-20,120,5,Health, COVID Research Fund approved to support universities conducting research on COVID-19\n",
    "06-Mar-20,156,8,Travel, Chartered flight brought back first batch of residents stranded overseas due to travel disruptions\n",
    "07-Mar-20,207,12,Social services, Subsidy provided to residential care homes to implement heightened cleaning measures\n",
    "08-Mar-20,298,12,-, -\n",
    "09-Mar-20,450,16,Education, All schools to postpone overseas student exchange activities\n",
    "10-Mar-20,568,16,-, \n",
    "EOD\n",
    "set key top left Left\n",
    "set xdata time\n",
    "set timefmt \"%d-%b-%y\"\n",
    "plot '$sample' u 1:3:(Info(4,3)) with labels hypertext point title \"Deaths\"\n",
    "set term canvas stanalone mousing jsdir \"https://lkyspp-demo.s3-ap-southeast-1.amazonaws.com/\"\n",
    "set output 'deaths.html'\n",
    "replot\n"
   ]
  },
  {
   "cell_type": "code",
   "execution_count": 3,
   "metadata": {},
   "outputs": [
    {
     "data": {
      "text/plain": [
       "\u001b[?1l\u001b>\n",
       "Terminal type is now 'svg'\n",
       "Options are 'size 600,480 fixed enhanced font 'Arial,12' mousing butt dashlength 1.0 '\n",
       "\u001b[?1h\u001b=\u001b[?1l\u001b>\u001b[?1h\u001b=\u001b[?1l\u001b>\u001b[?1h\u001b=\u001b[?1l\u001b>\u001b[?1h\u001b="
      ]
     },
     "execution_count": 3,
     "metadata": {},
     "output_type": "execute_result"
    }
   ],
   "source": [
    "set term svg mouse enhanced jsdir \"https://lkyspp-demo.s3-ap-southeast-1.amazonaws.com/\"\n",
    "set output 'deaths.svg'\n",
    "replot"
   ]
  },
  {
   "cell_type": "code",
   "execution_count": 4,
   "metadata": {
    "scrolled": true
   },
   "outputs": [
    {
     "data": {
      "image/svg+xml": [
       "<svg xmlns=\"http://www.w3.org/2000/svg\" xmlns:xlink=\"http://www.w3.org/1999/xlink\" onload=\"if (typeof(gnuplot_svg)!='undefined') gnuplot_svg.Init(evt)\" width=\"600\" height=\"480\" viewBox=\"0 0 600 480\">\n",
       "\n",
       "<title>Gnuplot</title>\n",
       "<desc>Produced by GNUPLOT 5.4 patchlevel 0 </desc>\n",
       "\n",
       "<script type=\"text/javascript\" xlink:href=\"https://lkyspp-demo.s3-ap-southeast-1.amazonaws.com/gnuplot_svg.js\"/>\n",
       "\n",
       "<!-- Tie mousing to entire bounding box of the plot -->\n",
       "<rect x=\"0\" y=\"0\" width=\"600\" height=\"480\" fill=\"#ffffff\" stroke=\"black\" stroke-width=\"1\" onclick=\"gnuplot_svg.toggleCoordBox(evt)\" onmousemove=\"gnuplot_svg.moveCoordBox(evt)\"/>\n",
       "\n",
       "<!-- Also track mouse when it is on a plot element -->\n",
       "<g id=\"gnuplot_canvas\" onclick=\"gnuplot_svg.toggleCoordBox(evt)\" onmousemove=\"gnuplot_svg.moveCoordBox(evt)\">\n",
       "\n",
       "<defs>\n",
       "\n",
       "\t<circle id=\"gpDot\" r=\"0.5\" stroke-width=\"0.5\" stroke=\"currentColor\"/>\n",
       "\t<path id=\"gpPt0\" stroke-width=\"0.222\" stroke=\"currentColor\" d=\"M-1,0 h2 M0,-1 v2\"/>\n",
       "\t<path id=\"gpPt1\" stroke-width=\"0.222\" stroke=\"currentColor\" d=\"M-1,-1 L1,1 M1,-1 L-1,1\"/>\n",
       "\t<path id=\"gpPt2\" stroke-width=\"0.222\" stroke=\"currentColor\" d=\"M-1,0 L1,0 M0,-1 L0,1 M-1,-1 L1,1 M-1,1 L1,-1\"/>\n",
       "\t<rect id=\"gpPt3\" stroke-width=\"0.222\" stroke=\"currentColor\" x=\"-1\" y=\"-1\" width=\"2\" height=\"2\"/>\n",
       "\t<rect id=\"gpPt4\" stroke-width=\"0.222\" stroke=\"currentColor\" fill=\"currentColor\" x=\"-1\" y=\"-1\" width=\"2\" height=\"2\"/>\n",
       "\t<circle id=\"gpPt5\" stroke-width=\"0.222\" stroke=\"currentColor\" cx=\"0\" cy=\"0\" r=\"1\"/>\n",
       "\t<use xlink:href=\"#gpPt5\" id=\"gpPt6\" fill=\"currentColor\" stroke=\"none\"/>\n",
       "\t<path id=\"gpPt7\" stroke-width=\"0.222\" stroke=\"currentColor\" d=\"M0,-1.33 L-1.33,0.67 L1.33,0.67 z\"/>\n",
       "\t<use xlink:href=\"#gpPt7\" id=\"gpPt8\" fill=\"currentColor\" stroke=\"none\"/>\n",
       "\t<use xlink:href=\"#gpPt7\" id=\"gpPt9\" stroke=\"currentColor\" transform=\"rotate(180)\"/>\n",
       "\t<use xlink:href=\"#gpPt9\" id=\"gpPt10\" fill=\"currentColor\" stroke=\"none\"/>\n",
       "\t<use xlink:href=\"#gpPt3\" id=\"gpPt11\" stroke=\"currentColor\" transform=\"rotate(45)\"/>\n",
       "\t<use xlink:href=\"#gpPt11\" id=\"gpPt12\" fill=\"currentColor\" stroke=\"none\"/>\n",
       "\t<path id=\"gpPt13\" stroke-width=\"0.222\" stroke=\"currentColor\" d=\"M0,1.330 L1.265,0.411 L0.782,-1.067 L-0.782,-1.076 L-1.265,0.411 z\"/>\n",
       "\t<use xlink:href=\"#gpPt13\" id=\"gpPt14\" fill=\"currentColor\" stroke=\"none\"/>\n",
       "\t<filter id=\"textbox\" filterUnits=\"objectBoundingBox\" x=\"0\" y=\"0\" height=\"1\" width=\"1\">\n",
       "\t  <feFlood flood-color=\"white\" flood-opacity=\"1\" result=\"bgnd\"/>\n",
       "\t  <feComposite in=\"SourceGraphic\" in2=\"bgnd\" operator=\"atop\"/>\n",
       "\t</filter>\n",
       "\t<filter id=\"greybox\" filterUnits=\"objectBoundingBox\" x=\"0\" y=\"0\" height=\"1\" width=\"1\">\n",
       "\t  <feFlood flood-color=\"lightgrey\" flood-opacity=\"1\" result=\"grey\"/>\n",
       "\t  <feComposite in=\"SourceGraphic\" in2=\"grey\" operator=\"atop\"/>\n",
       "\t</filter>\n",
       "</defs>\n",
       "<g fill=\"none\" color=\"white\" stroke=\"black\" stroke-width=\"1.00\" stroke-linecap=\"butt\" stroke-linejoin=\"miter\">\n",
       "</g>\n",
       "<g fill=\"none\" color=\"black\" stroke=\"currentColor\" stroke-width=\"1.00\" stroke-linecap=\"butt\" stroke-linejoin=\"miter\">\n",
       "\t<path stroke=\"black\" d=\"M53.9,444.0 L62.9,444.0 M575.0,444.0 L566.0,444.0  \"/>\t<g transform=\"translate(45.6,447.9)\" stroke=\"none\" fill=\"black\" font-family=\"Arial\" font-size=\"12.00\" text-anchor=\"end\">\n",
       "\t\t<text><tspan font-family=\"Arial\"> 0</tspan></text>\n",
       "\t</g>\n",
       "</g>\n",
       "<g fill=\"none\" color=\"black\" stroke=\"currentColor\" stroke-width=\"1.00\" stroke-linecap=\"butt\" stroke-linejoin=\"miter\">\n",
       "\t<path stroke=\"black\" d=\"M53.9,373.0 L62.9,373.0 M575.0,373.0 L566.0,373.0  \"/>\t<g transform=\"translate(45.6,376.9)\" stroke=\"none\" fill=\"black\" font-family=\"Arial\" font-size=\"12.00\" text-anchor=\"end\">\n",
       "\t\t<text><tspan font-family=\"Arial\"> 100</tspan></text>\n",
       "\t</g>\n",
       "</g>\n",
       "<g fill=\"none\" color=\"black\" stroke=\"currentColor\" stroke-width=\"1.00\" stroke-linecap=\"butt\" stroke-linejoin=\"miter\">\n",
       "\t<path stroke=\"black\" d=\"M53.9,302.0 L62.9,302.0 M575.0,302.0 L566.0,302.0  \"/>\t<g transform=\"translate(45.6,305.9)\" stroke=\"none\" fill=\"black\" font-family=\"Arial\" font-size=\"12.00\" text-anchor=\"end\">\n",
       "\t\t<text><tspan font-family=\"Arial\"> 200</tspan></text>\n",
       "\t</g>\n",
       "</g>\n",
       "<g fill=\"none\" color=\"black\" stroke=\"currentColor\" stroke-width=\"1.00\" stroke-linecap=\"butt\" stroke-linejoin=\"miter\">\n",
       "\t<path stroke=\"black\" d=\"M53.9,231.0 L62.9,231.0 M575.0,231.0 L566.0,231.0  \"/>\t<g transform=\"translate(45.6,234.9)\" stroke=\"none\" fill=\"black\" font-family=\"Arial\" font-size=\"12.00\" text-anchor=\"end\">\n",
       "\t\t<text><tspan font-family=\"Arial\"> 300</tspan></text>\n",
       "\t</g>\n",
       "</g>\n",
       "<g fill=\"none\" color=\"black\" stroke=\"currentColor\" stroke-width=\"1.00\" stroke-linecap=\"butt\" stroke-linejoin=\"miter\">\n",
       "\t<path stroke=\"black\" d=\"M53.9,160.1 L62.9,160.1 M575.0,160.1 L566.0,160.1  \"/>\t<g transform=\"translate(45.6,164.0)\" stroke=\"none\" fill=\"black\" font-family=\"Arial\" font-size=\"12.00\" text-anchor=\"end\">\n",
       "\t\t<text><tspan font-family=\"Arial\"> 400</tspan></text>\n",
       "\t</g>\n",
       "</g>\n",
       "<g fill=\"none\" color=\"black\" stroke=\"currentColor\" stroke-width=\"1.00\" stroke-linecap=\"butt\" stroke-linejoin=\"miter\">\n",
       "\t<path stroke=\"black\" d=\"M53.9,89.1 L62.9,89.1 M575.0,89.1 L566.0,89.1  \"/>\t<g transform=\"translate(45.6,93.0)\" stroke=\"none\" fill=\"black\" font-family=\"Arial\" font-size=\"12.00\" text-anchor=\"end\">\n",
       "\t\t<text><tspan font-family=\"Arial\"> 500</tspan></text>\n",
       "\t</g>\n",
       "</g>\n",
       "<g fill=\"none\" color=\"black\" stroke=\"currentColor\" stroke-width=\"1.00\" stroke-linecap=\"butt\" stroke-linejoin=\"miter\">\n",
       "\t<path stroke=\"black\" d=\"M53.9,18.1 L62.9,18.1 M575.0,18.1 L566.0,18.1  \"/>\t<g transform=\"translate(45.6,22.0)\" stroke=\"none\" fill=\"black\" font-family=\"Arial\" font-size=\"12.00\" text-anchor=\"end\">\n",
       "\t\t<text><tspan font-family=\"Arial\"> 600</tspan></text>\n",
       "\t</g>\n",
       "</g>\n",
       "<g fill=\"none\" color=\"black\" stroke=\"currentColor\" stroke-width=\"1.00\" stroke-linecap=\"butt\" stroke-linejoin=\"miter\">\n",
       "\t<path stroke=\"black\" d=\"M53.9,444.0 L53.9,435.0 M53.9,18.1 L53.9,27.1  \"/>\t<g transform=\"translate(53.9,465.9)\" stroke=\"none\" fill=\"black\" font-family=\"Arial\" font-size=\"12.00\" text-anchor=\"middle\">\n",
       "\t\t<text><tspan font-family=\"Arial\">03/01</tspan></text>\n",
       "\t</g>\n",
       "</g>\n",
       "<g fill=\"none\" color=\"black\" stroke=\"currentColor\" stroke-width=\"1.00\" stroke-linecap=\"butt\" stroke-linejoin=\"miter\">\n",
       "\t<path stroke=\"black\" d=\"M68.4,444.0 L68.4,439.5 M68.4,18.1 L68.4,22.6 M82.9,444.0 L82.9,439.5 M82.9,18.1 L82.9,22.6   M97.3,444.0 L97.3,439.5 M97.3,18.1 L97.3,22.6 M111.8,444.0 L111.8,435.0 M111.8,18.1 L111.8,27.1    \"/>\t<g transform=\"translate(111.8,465.9)\" stroke=\"none\" fill=\"black\" font-family=\"Arial\" font-size=\"12.00\" text-anchor=\"middle\">\n",
       "\t\t<text><tspan font-family=\"Arial\">03/02</tspan></text>\n",
       "\t</g>\n",
       "</g>\n",
       "<g fill=\"none\" color=\"black\" stroke=\"currentColor\" stroke-width=\"1.00\" stroke-linecap=\"butt\" stroke-linejoin=\"miter\">\n",
       "\t<path stroke=\"black\" d=\"M126.3,444.0 L126.3,439.5 M126.3,18.1 L126.3,22.6 M140.8,444.0 L140.8,439.5 M140.8,18.1 L140.8,22.6   M155.2,444.0 L155.2,439.5 M155.2,18.1 L155.2,22.6 M169.7,444.0 L169.7,435.0 M169.7,18.1 L169.7,27.1    \"/>\t<g transform=\"translate(169.7,465.9)\" stroke=\"none\" fill=\"black\" font-family=\"Arial\" font-size=\"12.00\" text-anchor=\"middle\">\n",
       "\t\t<text><tspan font-family=\"Arial\">03/03</tspan></text>\n",
       "\t</g>\n",
       "</g>\n",
       "<g fill=\"none\" color=\"black\" stroke=\"currentColor\" stroke-width=\"1.00\" stroke-linecap=\"butt\" stroke-linejoin=\"miter\">\n",
       "\t<path stroke=\"black\" d=\"M184.2,444.0 L184.2,439.5 M184.2,18.1 L184.2,22.6 M198.7,444.0 L198.7,439.5 M198.7,18.1 L198.7,22.6   M213.1,444.0 L213.1,439.5 M213.1,18.1 L213.1,22.6 M227.6,444.0 L227.6,435.0 M227.6,18.1 L227.6,27.1    \"/>\t<g transform=\"translate(227.6,465.9)\" stroke=\"none\" fill=\"black\" font-family=\"Arial\" font-size=\"12.00\" text-anchor=\"middle\">\n",
       "\t\t<text><tspan font-family=\"Arial\">03/04</tspan></text>\n",
       "\t</g>\n",
       "</g>\n",
       "<g fill=\"none\" color=\"black\" stroke=\"currentColor\" stroke-width=\"1.00\" stroke-linecap=\"butt\" stroke-linejoin=\"miter\">\n",
       "\t<path stroke=\"black\" d=\"M242.1,444.0 L242.1,439.5 M242.1,18.1 L242.1,22.6 M256.6,444.0 L256.6,439.5 M256.6,18.1 L256.6,22.6   M271.0,444.0 L271.0,439.5 M271.0,18.1 L271.0,22.6 M285.5,444.0 L285.5,435.0 M285.5,18.1 L285.5,27.1    \"/>\t<g transform=\"translate(285.5,465.9)\" stroke=\"none\" fill=\"black\" font-family=\"Arial\" font-size=\"12.00\" text-anchor=\"middle\">\n",
       "\t\t<text><tspan font-family=\"Arial\">03/05</tspan></text>\n",
       "\t</g>\n",
       "</g>\n",
       "<g fill=\"none\" color=\"black\" stroke=\"currentColor\" stroke-width=\"1.00\" stroke-linecap=\"butt\" stroke-linejoin=\"miter\">\n",
       "\t<path stroke=\"black\" d=\"M300.0,444.0 L300.0,439.5 M300.0,18.1 L300.0,22.6 M314.5,444.0 L314.5,439.5 M314.5,18.1 L314.5,22.6   M328.9,444.0 L328.9,439.5 M328.9,18.1 L328.9,22.6 M343.4,444.0 L343.4,435.0 M343.4,18.1 L343.4,27.1    \"/>\t<g transform=\"translate(343.4,465.9)\" stroke=\"none\" fill=\"black\" font-family=\"Arial\" font-size=\"12.00\" text-anchor=\"middle\">\n",
       "\t\t<text><tspan font-family=\"Arial\">03/06</tspan></text>\n",
       "\t</g>\n",
       "</g>\n",
       "<g fill=\"none\" color=\"black\" stroke=\"currentColor\" stroke-width=\"1.00\" stroke-linecap=\"butt\" stroke-linejoin=\"miter\">\n",
       "\t<path stroke=\"black\" d=\"M357.9,444.0 L357.9,439.5 M357.9,18.1 L357.9,22.6 M372.4,444.0 L372.4,439.5 M372.4,18.1 L372.4,22.6   M386.8,444.0 L386.8,439.5 M386.8,18.1 L386.8,22.6 M401.3,444.0 L401.3,435.0 M401.3,18.1 L401.3,27.1    \"/>\t<g transform=\"translate(401.3,465.9)\" stroke=\"none\" fill=\"black\" font-family=\"Arial\" font-size=\"12.00\" text-anchor=\"middle\">\n",
       "\t\t<text><tspan font-family=\"Arial\">03/07</tspan></text>\n",
       "\t</g>\n",
       "</g>\n",
       "<g fill=\"none\" color=\"black\" stroke=\"currentColor\" stroke-width=\"1.00\" stroke-linecap=\"butt\" stroke-linejoin=\"miter\">\n",
       "\t<path stroke=\"black\" d=\"M415.8,444.0 L415.8,439.5 M415.8,18.1 L415.8,22.6 M430.3,444.0 L430.3,439.5 M430.3,18.1 L430.3,22.6   M444.7,444.0 L444.7,439.5 M444.7,18.1 L444.7,22.6 M459.2,444.0 L459.2,435.0 M459.2,18.1 L459.2,27.1    \"/>\t<g transform=\"translate(459.2,465.9)\" stroke=\"none\" fill=\"black\" font-family=\"Arial\" font-size=\"12.00\" text-anchor=\"middle\">\n",
       "\t\t<text><tspan font-family=\"Arial\">03/08</tspan></text>\n",
       "\t</g>\n",
       "</g>\n",
       "<g fill=\"none\" color=\"black\" stroke=\"currentColor\" stroke-width=\"1.00\" stroke-linecap=\"butt\" stroke-linejoin=\"miter\">\n",
       "\t<path stroke=\"black\" d=\"M473.7,444.0 L473.7,439.5 M473.7,18.1 L473.7,22.6 M488.2,444.0 L488.2,439.5 M488.2,18.1 L488.2,22.6   M502.6,444.0 L502.6,439.5 M502.6,18.1 L502.6,22.6 M517.1,444.0 L517.1,435.0 M517.1,18.1 L517.1,27.1    \"/>\t<g transform=\"translate(517.1,465.9)\" stroke=\"none\" fill=\"black\" font-family=\"Arial\" font-size=\"12.00\" text-anchor=\"middle\">\n",
       "\t\t<text><tspan font-family=\"Arial\">03/09</tspan></text>\n",
       "\t</g>\n",
       "</g>\n",
       "<g fill=\"none\" color=\"black\" stroke=\"currentColor\" stroke-width=\"1.00\" stroke-linecap=\"butt\" stroke-linejoin=\"miter\">\n",
       "\t<path stroke=\"black\" d=\"M531.6,444.0 L531.6,439.5 M531.6,18.1 L531.6,22.6 M546.1,444.0 L546.1,439.5 M546.1,18.1 L546.1,22.6   M560.5,444.0 L560.5,439.5 M560.5,18.1 L560.5,22.6 M575.0,444.0 L575.0,435.0 M575.0,18.1 L575.0,27.1    \"/>\t<g transform=\"translate(575.0,465.9)\" stroke=\"none\" fill=\"black\" font-family=\"Arial\" font-size=\"12.00\" text-anchor=\"middle\">\n",
       "\t\t<text><tspan font-family=\"Arial\">03/10</tspan></text>\n",
       "\t</g>\n",
       "</g>\n",
       "<g fill=\"none\" color=\"black\" stroke=\"currentColor\" stroke-width=\"1.00\" stroke-linecap=\"butt\" stroke-linejoin=\"miter\">\n",
       "</g>\n",
       "<g fill=\"none\" color=\"black\" stroke=\"currentColor\" stroke-width=\"1.00\" stroke-linecap=\"butt\" stroke-linejoin=\"miter\">\n",
       "\t<path stroke=\"black\" d=\"M53.9,18.1 L53.9,444.0 L575.0,444.0 L575.0,18.1 L53.9,18.1 Z  \"/></g>\n",
       "<g fill=\"none\" color=\"black\" stroke=\"currentColor\" stroke-width=\"1.00\" stroke-linecap=\"butt\" stroke-linejoin=\"miter\">\n",
       "</g>\n",
       "\t<g id=\"gnuplot_plot_1\"><title>Cases</title>\n",
       "<g fill=\"none\" color=\"black\" stroke=\"currentColor\" stroke-width=\"1.00\" stroke-linecap=\"butt\" stroke-linejoin=\"miter\">\n",
       "\t<g id=\"gnuplot_plot_1_keyentry\" visibility=\"visible\" onclick=\"gnuplot_svg.toggleVisibility(evt,'gnuplot_plot_1')\">\n",
       "\t<g transform=\"translate(62.2,40.0)\" stroke=\"none\" fill=\"black\" font-family=\"Arial\" font-size=\"12.00\" text-anchor=\"start\">\n",
       "\t\t<text><tspan font-family=\"Arial\">Cases</tspan></text>\n",
       "\t</g>\n",
       "</g>\n",
       "<g fill=\"none\" color=\"black\" stroke=\"currentColor\" stroke-width=\"1.00\" stroke-linecap=\"butt\" stroke-linejoin=\"miter\">\n",
       "\t</g>\n",
       "</g>\n",
       "<g fill=\"none\" color=\"black\" stroke=\"currentColor\" stroke-width=\"1.00\" stroke-linecap=\"butt\" stroke-linejoin=\"miter\">\n",
       "\t<g onmousemove=\"gnuplot_svg.showHypertext(evt,'Policy Closures\\n50')\" onmouseout=\"gnuplot_svg.hideHypertext()\"><title> </title>\n",
       "\t<use xlink:href=\"#gpPt0\" transform=\"translate(53.9,408.5) scale(4.50)\" color=\"rgb(148,   0, 211)\"/></g>\n",
       "</g>\n",
       "<g fill=\"none\" color=\"black\" stroke=\"currentColor\" stroke-width=\"1.00\" stroke-linecap=\"butt\" stroke-linejoin=\"miter\">\n",
       "</g>\n",
       "<g fill=\"none\" color=\"black\" stroke=\"currentColor\" stroke-width=\"1.00\" stroke-linecap=\"butt\" stroke-linejoin=\"miter\">\n",
       "\t<g onmousemove=\"gnuplot_svg.showHypertext(evt,'Policy Closures\\n62')\" onmouseout=\"gnuplot_svg.hideHypertext()\"><title> </title>\n",
       "\t<use xlink:href=\"#gpPt0\" transform=\"translate(111.8,400.0) scale(4.50)\" color=\"rgb(148,   0, 211)\"/></g>\n",
       "</g>\n",
       "<g fill=\"none\" color=\"black\" stroke=\"currentColor\" stroke-width=\"1.00\" stroke-linecap=\"butt\" stroke-linejoin=\"miter\">\n",
       "</g>\n",
       "<g fill=\"none\" color=\"black\" stroke=\"currentColor\" stroke-width=\"1.00\" stroke-linecap=\"butt\" stroke-linejoin=\"miter\">\n",
       "\t<g onmousemove=\"gnuplot_svg.showHypertext(evt,'Policy Jobs\\n99')\" onmouseout=\"gnuplot_svg.hideHypertext()\"><title> </title>\n",
       "\t<use xlink:href=\"#gpPt0\" transform=\"translate(169.7,373.7) scale(4.50)\" color=\"rgb(148,   0, 211)\"/></g>\n",
       "</g>\n",
       "<g fill=\"none\" color=\"black\" stroke=\"currentColor\" stroke-width=\"1.00\" stroke-linecap=\"butt\" stroke-linejoin=\"miter\">\n",
       "</g>\n",
       "<g fill=\"none\" color=\"black\" stroke=\"currentColor\" stroke-width=\"1.00\" stroke-linecap=\"butt\" stroke-linejoin=\"miter\">\n",
       "\t<g onmousemove=\"gnuplot_svg.showHypertext(evt,'Policy Businesses\\n108')\" onmouseout=\"gnuplot_svg.hideHypertext()\"><title> </title>\n",
       "\t<use xlink:href=\"#gpPt0\" transform=\"translate(227.6,367.3) scale(4.50)\" color=\"rgb(148,   0, 211)\"/></g>\n",
       "</g>\n",
       "<g fill=\"none\" color=\"black\" stroke=\"currentColor\" stroke-width=\"1.00\" stroke-linecap=\"butt\" stroke-linejoin=\"miter\">\n",
       "</g>\n",
       "<g fill=\"none\" color=\"black\" stroke=\"currentColor\" stroke-width=\"1.00\" stroke-linecap=\"butt\" stroke-linejoin=\"miter\">\n",
       "\t<g onmousemove=\"gnuplot_svg.showHypertext(evt,'Policy Health\\n120')\" onmouseout=\"gnuplot_svg.hideHypertext()\"><title> </title>\n",
       "\t<use xlink:href=\"#gpPt0\" transform=\"translate(285.5,358.8) scale(4.50)\" color=\"rgb(148,   0, 211)\"/></g>\n",
       "</g>\n",
       "<g fill=\"none\" color=\"black\" stroke=\"currentColor\" stroke-width=\"1.00\" stroke-linecap=\"butt\" stroke-linejoin=\"miter\">\n",
       "</g>\n",
       "<g fill=\"none\" color=\"black\" stroke=\"currentColor\" stroke-width=\"1.00\" stroke-linecap=\"butt\" stroke-linejoin=\"miter\">\n",
       "\t<g onmousemove=\"gnuplot_svg.showHypertext(evt,'Policy Travel\\n156')\" onmouseout=\"gnuplot_svg.hideHypertext()\"><title> </title>\n",
       "\t<use xlink:href=\"#gpPt0\" transform=\"translate(343.4,333.3) scale(4.50)\" color=\"rgb(148,   0, 211)\"/></g>\n",
       "</g>\n",
       "<g fill=\"none\" color=\"black\" stroke=\"currentColor\" stroke-width=\"1.00\" stroke-linecap=\"butt\" stroke-linejoin=\"miter\">\n",
       "</g>\n",
       "<g fill=\"none\" color=\"black\" stroke=\"currentColor\" stroke-width=\"1.00\" stroke-linecap=\"butt\" stroke-linejoin=\"miter\">\n",
       "\t<g onmousemove=\"gnuplot_svg.showHypertext(evt,'Policy Social services\\n207')\" onmouseout=\"gnuplot_svg.hideHypertext()\"><title> </title>\n",
       "\t<use xlink:href=\"#gpPt0\" transform=\"translate(401.3,297.1) scale(4.50)\" color=\"rgb(148,   0, 211)\"/></g>\n",
       "</g>\n",
       "<g fill=\"none\" color=\"black\" stroke=\"currentColor\" stroke-width=\"1.00\" stroke-linecap=\"butt\" stroke-linejoin=\"miter\">\n",
       "</g>\n",
       "<g fill=\"none\" color=\"black\" stroke=\"currentColor\" stroke-width=\"1.00\" stroke-linecap=\"butt\" stroke-linejoin=\"miter\">\n",
       "\t<g onmousemove=\"gnuplot_svg.showHypertext(evt,'Policy -\\n298')\" onmouseout=\"gnuplot_svg.hideHypertext()\"><title> </title>\n",
       "\t<use xlink:href=\"#gpPt0\" transform=\"translate(459.2,232.5) scale(4.50)\" color=\"rgb(148,   0, 211)\"/></g>\n",
       "</g>\n",
       "<g fill=\"none\" color=\"black\" stroke=\"currentColor\" stroke-width=\"1.00\" stroke-linecap=\"butt\" stroke-linejoin=\"miter\">\n",
       "</g>\n",
       "<g fill=\"none\" color=\"black\" stroke=\"currentColor\" stroke-width=\"1.00\" stroke-linecap=\"butt\" stroke-linejoin=\"miter\">\n",
       "\t<g onmousemove=\"gnuplot_svg.showHypertext(evt,'Policy Education\\n450')\" onmouseout=\"gnuplot_svg.hideHypertext()\"><title> </title>\n",
       "\t<use xlink:href=\"#gpPt0\" transform=\"translate(517.1,124.6) scale(4.50)\" color=\"rgb(148,   0, 211)\"/></g>\n",
       "</g>\n",
       "<g fill=\"none\" color=\"black\" stroke=\"currentColor\" stroke-width=\"1.00\" stroke-linecap=\"butt\" stroke-linejoin=\"miter\">\n",
       "</g>\n",
       "<g fill=\"none\" color=\"black\" stroke=\"currentColor\" stroke-width=\"1.00\" stroke-linecap=\"butt\" stroke-linejoin=\"miter\">\n",
       "\t<g onmousemove=\"gnuplot_svg.showHypertext(evt,'Policy -\\n568')\" onmouseout=\"gnuplot_svg.hideHypertext()\"><title> </title>\n",
       "\t<use xlink:href=\"#gpPt0\" transform=\"translate(575.0,40.8) scale(4.50)\" color=\"rgb(148,   0, 211)\"/></g>\n",
       "</g>\n",
       "<g fill=\"none\" color=\"black\" stroke=\"currentColor\" stroke-width=\"1.00\" stroke-linecap=\"butt\" stroke-linejoin=\"miter\">\n",
       "\t<g id=\"gnuplot_plot_1_keyentry\" visibility=\"visible\" onclick=\"gnuplot_svg.toggleVisibility(evt,'gnuplot_plot_1')\">\n",
       "</g>\n",
       "<g fill=\"none\" color=\"black\" stroke=\"currentColor\" stroke-width=\"1.00\" stroke-linecap=\"butt\" stroke-linejoin=\"miter\">\n",
       "\t<use xlink:href=\"#gpPt0\" transform=\"translate(133.1,36.1) scale(4.50)\" color=\"rgb(148,   0, 211)\"/>\n",
       "\t</g>\n",
       "</g>\n",
       "\t</g>\n",
       "<g fill=\"none\" color=\"white\" stroke=\"rgb(148,   0, 211)\" stroke-width=\"2.00\" stroke-linecap=\"butt\" stroke-linejoin=\"miter\">\n",
       "</g>\n",
       "<g fill=\"none\" color=\"black\" stroke=\"currentColor\" stroke-width=\"2.00\" stroke-linecap=\"butt\" stroke-linejoin=\"miter\">\n",
       "</g>\n",
       "<g fill=\"none\" color=\"black\" stroke=\"black\" stroke-width=\"1.00\" stroke-linecap=\"butt\" stroke-linejoin=\"miter\">\n",
       "</g>\n",
       "<g fill=\"none\" color=\"black\" stroke=\"currentColor\" stroke-width=\"1.00\" stroke-linecap=\"butt\" stroke-linejoin=\"miter\">\n",
       "\t<path stroke=\"black\" d=\"M53.9,18.1 L53.9,444.0 L575.0,444.0 L575.0,18.1 L53.9,18.1 Z  \"/></g>\n",
       "<g fill=\"none\" color=\"black\" stroke=\"currentColor\" stroke-width=\"1.00\" stroke-linecap=\"butt\" stroke-linejoin=\"miter\">\n",
       "</g>\n",
       "\n",
       "<script type=\"text/javascript\"><![CDATA[\n",
       "// plot boundaries and axis scaling information for mousing \n",
       "gnuplot_svg.plot_term_xmax = 600;\n",
       "gnuplot_svg.plot_term_ymax = 480;\n",
       "gnuplot_svg.plot_xmin = 53.9;\n",
       "gnuplot_svg.plot_xmax = 575.0;\n",
       "gnuplot_svg.plot_ybot = 444.0;\n",
       "gnuplot_svg.plot_ytop = 18.1;\n",
       "gnuplot_svg.plot_width = 521.1;\n",
       "gnuplot_svg.plot_height = 425.9;\n",
       "gnuplot_svg.plot_axis_ymin = 0;\n",
       "gnuplot_svg.plot_axis_ymax = 600;\n",
       "gnuplot_svg.polar_mode = false;\n",
       "gnuplot_svg.plot_axis_x2min = \"none\";\n",
       "gnuplot_svg.plot_axis_y2min = \"none\";\n",
       "gnuplot_svg.plot_logaxis_x = 0;\n",
       "gnuplot_svg.plot_logaxis_y = 0;\n",
       "gnuplot_svg.plot_axis_xmin = 1583020800.000;\n",
       "gnuplot_svg.plot_axis_xmax = 1583798400.000;\n",
       "gnuplot_svg.plot_timeaxis_x = \"DateTime\";\n",
       "gnuplot_svg.plot_timeaxis_y = \"\";\n",
       "gnuplot_svg.hypertext_fontSize = 0;\n",
       "gnuplot_svg.hypertext_fontName = null;\n",
       "gnuplot_svg.hypertext_fontStyle = null;\n",
       "gnuplot_svg.hypertext_fontWeight = null;\n",
       "]]>\n",
       "</script>\n",
       "</g>\n",
       "\n",
       "  <text id=\"coord_text\" text-anchor=\"start\" pointer-events=\"none\" font-size=\"12\" font-family=\"Arial\" visibility=\"hidden\"> </text>\n",
       "\n",
       "  <rect id=\"hypertextbox\" class=\"hypertextbox\" pointer-events=\"none\" fill=\"white\" stroke=\"black\" opacity=\"0.8\" height=\"16\" visibility=\"hidden\"/>\n",
       "\n",
       "  <text id=\"hypertext\" class=\"hypertext\" pointer-events=\"none\" font-size=\"12\" font-family=\"Arial\" visibility=\"hidden\"> </text>\n",
       "\n",
       "  <image id=\"hyperimage\" class=\"hyperimage\" pointer-events=\"none\" fill=\"white\" stroke=\"black\" opacity=\"0.8\" height=\"200\" width=\"300\" visibility=\"hidden\"/>\n",
       "</svg>"
      ],
      "text/plain": [
       "<IPython.core.display.SVG object>"
      ]
     },
     "metadata": {},
     "output_type": "display_data"
    },
    {
     "data": {
      "text/plain": [
       "\u001b[?1l\u001b>\u001b[?1h\u001b=\u001b[?1l\u001b>\u001b[?1h\u001b=\u001b[?1l\u001b>\u001b[?1h\u001b="
      ]
     },
     "execution_count": 4,
     "metadata": {},
     "output_type": "execute_result"
    }
   ],
   "source": [
    "plot '$sample' u 1:2:(Info(4,2)) with labels hypertext point linestyle 1 title \"Cases\"\n"
   ]
  },
  {
   "cell_type": "code",
   "execution_count": 5,
   "metadata": {},
   "outputs": [
    {
     "data": {
      "text/plain": [
       "\u001b[?1l\u001b>\n",
       "Terminal type is now 'svg'\n",
       "Options are 'size 600,480 fixed enhanced font 'Arial,12' mousing butt dashlength 1.0 '\n",
       "\u001b[?1h\u001b=\u001b[?1l\u001b>\u001b[?1h\u001b=\u001b[?1l\u001b>\u001b[?1h\u001b=\u001b[?1l\u001b>\u001b[?1h\u001b="
      ]
     },
     "execution_count": 5,
     "metadata": {},
     "output_type": "execute_result"
    }
   ],
   "source": [
    "set term svg mouse enhanced jsdir \"https://lkyspp-demo.s3-ap-southeast-1.amazonaws.com/\"\n",
    "set output 'cases.svg'\n",
    "replot"
   ]
  },
  {
   "cell_type": "code",
   "execution_count": 6,
   "metadata": {},
   "outputs": [
    {
     "data": {
      "text/plain": [
       "\u001b[?1l\u001b>\n",
       "Terminal type is now 'canvas'\n",
       "                         ^\n",
       "         warning: unrecognized terminal option\n",
       "Options are ' rounded size 600,400 enhanced fsize 10 lw 1 fontscale 1 standalone mousing jsdir \"https://lkyspp-demo.s3-ap-southeast-1.amazonaws.com/\"'\n",
       "\u001b[?1h\u001b=\u001b[?1l\u001b>\u001b[?1h\u001b=\u001b[?1l\u001b>\u001b[?1h\u001b=\u001b[?1l\u001b>\u001b[?1h\u001b="
      ]
     },
     "execution_count": 6,
     "metadata": {},
     "output_type": "execute_result"
    }
   ],
   "source": [
    "set term canvas stanalone mousing jsdir \"https://lkyspp-demo.s3-ap-southeast-1.amazonaws.com/\"\n",
    "set output 'cases.html'\n",
    "replot"
   ]
  },
  {
   "cell_type": "code",
   "execution_count": null,
   "metadata": {},
   "outputs": [],
   "source": []
  },
  {
   "cell_type": "code",
   "execution_count": null,
   "metadata": {},
   "outputs": [],
   "source": []
  },
  {
   "cell_type": "code",
   "execution_count": null,
   "metadata": {},
   "outputs": [],
   "source": []
  }
 ],
 "metadata": {
  "kernelspec": {
   "display_name": "gnuplot",
   "language": "gnuplot",
   "name": "gnuplot"
  },
  "language_info": {
   "codemirror_mode": "Octave",
   "file_extension": ".gp",
   "help_links": [
    {
     "text": "MetaKernel Magics",
     "url": "https://metakernel.readthedocs.io/en/latest/source/README.html"
    }
   ],
   "mimetype": "text/x-gnuplot",
   "name": "gnuplot"
  }
 },
 "nbformat": 4,
 "nbformat_minor": 4
}
